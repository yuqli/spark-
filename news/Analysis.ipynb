{
 "cells": [
  {
   "cell_type": "code",
   "execution_count": 6,
   "metadata": {
    "collapsed": true
   },
   "outputs": [],
   "source": [
    "import pandas as pd\n",
    "import pickle\n",
    "def load_pkl(filename):\n",
    "    '''This function loads a pkl file'''\n",
    "    with open(filename, 'rb') as f:\n",
    "        p = pickle.load(f)\n",
    "    return p"
   ]
  },
  {
   "cell_type": "code",
   "execution_count": 39,
   "metadata": {},
   "outputs": [],
   "source": [
    "filename = 'pllr1.p'\n",
    "# pl = load_pkl(filename)\n",
    "df = pd.read_pickle(filename)"
   ]
  },
  {
   "cell_type": "code",
   "execution_count": 40,
   "metadata": {
    "scrolled": true
   },
   "outputs": [
    {
     "data": {
      "text/plain": [
       "0.5924050632911393"
      ]
     },
     "execution_count": 40,
     "metadata": {},
     "output_type": "execute_result"
    }
   ],
   "source": [
    "# Calculate accuracy overall \n",
    "acc = sum(df['label'] == df['prediction']) / float(len(df))\n",
    "acc"
   ]
  },
  {
   "cell_type": "code",
   "execution_count": 24,
   "metadata": {
    "scrolled": true
   },
   "outputs": [
    {
     "data": {
      "text/plain": [
       "array(['comp.os.ms-windows.misc', 'rec.autos', 'rec.sport.baseball',\n",
       "       'rec.motorcycles', 'sci.crypt', 'comp.graphics',\n",
       "       'comp.sys.mac.hardware', 'alt.atheism', 'rec.sport.hockey',\n",
       "       'sci.electronics', 'sci.med', 'comp.sys.ibm.pc.hardware',\n",
       "       'comp.windows.x', 'misc.forsale', 'talk.politics.misc',\n",
       "       'soc.religion.christian', 'talk.politics.guns', 'sci.space',\n",
       "       'talk.politics.mideast', 'talk.religion.misc'], dtype=object)"
      ]
     },
     "execution_count": 24,
     "metadata": {},
     "output_type": "execute_result"
    }
   ],
   "source": [
    "df['topic'].unique()"
   ]
  },
  {
   "cell_type": "code",
   "execution_count": 32,
   "metadata": {
    "scrolled": false
   },
   "outputs": [
    {
     "name": "stdout",
     "output_type": "stream",
     "text": [
      "0.0\n",
      "0.8072289156626506\n",
      "1.0\n",
      "0.4793388429752066\n",
      "2.0\n",
      "0.4818181818181818\n",
      "3.0\n",
      "0.7164179104477612\n",
      "4.0\n",
      "0.7419354838709677\n",
      "5.0\n",
      "0.7368421052631579\n",
      "6.0\n",
      "0.6363636363636364\n",
      "7.0\n",
      "0.47692307692307695\n",
      "8.0\n",
      "0.5512820512820513\n",
      "9.0\n",
      "0.6226415094339622\n",
      "10.0\n",
      "0.5531914893617021\n",
      "11.0\n",
      "0.46835443037974683\n",
      "12.0\n",
      "0.6065573770491803\n",
      "13.0\n",
      "0.5925925925925926\n",
      "14.0\n",
      "0.5833333333333334\n",
      "15.0\n",
      "0.5675675675675675\n",
      "16.0\n",
      "0.42857142857142855\n",
      "17.0\n",
      "0.8863636363636364\n",
      "18.0\n",
      "0.9090909090909091\n"
     ]
    }
   ],
   "source": [
    "# computate precision and recall for every class\n",
    "# Precision: For every predicted group, how many are correct\n",
    "grouped = df.groupby('prediction')\n",
    "for name, group in grouped:\n",
    "    print(name)\n",
    "    precision = sum(group['label'] == group['prediction']) / float(len(group))\n",
    "    print(precision)"
   ]
  },
  {
   "cell_type": "code",
   "execution_count": 34,
   "metadata": {
    "scrolled": true
   },
   "outputs": [
    {
     "name": "stdout",
     "output_type": "stream",
     "text": [
      "alt.atheism\n",
      "17.0\n",
      "0.7358490566037735\n",
      "comp.graphics\n",
      "13.0\n",
      "0.5245901639344263\n",
      "comp.os.ms-windows.misc\n",
      "9.0\n",
      "0.559322033898305\n",
      "comp.sys.ibm.pc.hardware\n",
      "11.0\n",
      "0.7115384615384616\n",
      "comp.sys.mac.hardware\n",
      "14.0\n",
      "0.2641509433962264\n",
      "comp.windows.x\n",
      "8.0\n",
      "0.7962962962962963\n",
      "misc.forsale\n",
      "12.0\n",
      "0.6271186440677966\n",
      "rec.autos\n",
      "6.0\n",
      "0.39436619718309857\n",
      "rec.motorcycles\n",
      "2.0\n",
      "0.7681159420289855\n",
      "rec.sport.baseball\n",
      "3.0\n",
      "0.6956521739130435\n",
      "rec.sport.hockey\n",
      "0.0\n",
      "0.8933333333333333\n",
      "sci.crypt\n",
      "4.0\n",
      "0.8214285714285714\n",
      "sci.electronics\n",
      "10.0\n",
      "0.4262295081967213\n",
      "sci.med\n",
      "5.0\n",
      "0.4117647058823529\n",
      "sci.space\n",
      "7.0\n",
      "0.5636363636363636\n",
      "soc.religion.christian\n",
      "1.0\n",
      "0.8169014084507042\n",
      "talk.politics.guns\n",
      "16.0\n",
      "0.5263157894736842\n",
      "talk.politics.mideast\n",
      "15.0\n",
      "0.7777777777777778\n",
      "talk.politics.misc\n",
      "18.0\n",
      "0.2\n",
      "talk.religion.misc\n",
      "19.0\n",
      "0.0\n"
     ]
    }
   ],
   "source": [
    "# Recall: For every true label, how many are collected\n",
    "grouped = df.groupby('topic')\n",
    "for name, group in grouped:\n",
    "    print(name)\n",
    "    print(group.label.iloc[0])\n",
    "    recall = sum(group['label'] == group['prediction']) / float(len(group))\n",
    "    print(recall)"
   ]
  },
  {
   "cell_type": "markdown",
   "metadata": {},
   "source": [
    "### Now for another data"
   ]
  },
  {
   "cell_type": "code",
   "execution_count": 41,
   "metadata": {
    "collapsed": true
   },
   "outputs": [],
   "source": [
    "filename = 'pllr2.p'\n",
    "# pl = load_pkl(filename)\n",
    "df = pd.read_pickle(filename)"
   ]
  },
  {
   "cell_type": "code",
   "execution_count": 42,
   "metadata": {},
   "outputs": [
    {
     "data": {
      "text/plain": [
       "0.04725738396624472"
      ]
     },
     "execution_count": 42,
     "metadata": {},
     "output_type": "execute_result"
    }
   ],
   "source": [
    "acc = sum(df['label'] == df['prediction']) / float(len(df))\n",
    "acc"
   ]
  },
  {
   "cell_type": "code",
   "execution_count": 43,
   "metadata": {},
   "outputs": [
    {
     "data": {
      "text/plain": [
       "array(['comp.os.ms-windows.misc', 'rec.autos', 'rec.sport.baseball',\n",
       "       'rec.motorcycles', 'sci.crypt', 'comp.graphics',\n",
       "       'comp.sys.mac.hardware', 'alt.atheism', 'rec.sport.hockey',\n",
       "       'sci.electronics', 'sci.med', 'comp.sys.ibm.pc.hardware',\n",
       "       'comp.windows.x', 'misc.forsale', 'talk.politics.misc',\n",
       "       'soc.religion.christian', 'talk.politics.guns', 'sci.space',\n",
       "       'talk.politics.mideast', 'talk.religion.misc'], dtype=object)"
      ]
     },
     "execution_count": 43,
     "metadata": {},
     "output_type": "execute_result"
    }
   ],
   "source": [
    "df['topic'].unique()"
   ]
  },
  {
   "cell_type": "code",
   "execution_count": 44,
   "metadata": {},
   "outputs": [
    {
     "name": "stdout",
     "output_type": "stream",
     "text": [
      "4.0\n",
      "0.04725738396624472\n"
     ]
    }
   ],
   "source": [
    "grouped = df.groupby('prediction')\n",
    "for name, group in grouped:\n",
    "    print(name)\n",
    "    precision = sum(group['label'] == group['prediction']) / float(len(group))\n",
    "    print(precision)"
   ]
  },
  {
   "cell_type": "code",
   "execution_count": 45,
   "metadata": {
    "scrolled": true
   },
   "outputs": [
    {
     "name": "stdout",
     "output_type": "stream",
     "text": [
      "alt.atheism\n",
      "17.0\n",
      "0.0\n",
      "comp.graphics\n",
      "13.0\n",
      "0.0\n",
      "comp.os.ms-windows.misc\n",
      "9.0\n",
      "0.0\n",
      "comp.sys.ibm.pc.hardware\n",
      "11.0\n",
      "0.0\n",
      "comp.sys.mac.hardware\n",
      "14.0\n",
      "0.0\n",
      "comp.windows.x\n",
      "8.0\n",
      "0.0\n",
      "misc.forsale\n",
      "12.0\n",
      "0.0\n",
      "rec.autos\n",
      "6.0\n",
      "0.0\n",
      "rec.motorcycles\n",
      "2.0\n",
      "0.0\n",
      "rec.sport.baseball\n",
      "3.0\n",
      "0.0\n",
      "rec.sport.hockey\n",
      "0.0\n",
      "0.0\n",
      "sci.crypt\n",
      "4.0\n",
      "1.0\n",
      "sci.electronics\n",
      "10.0\n",
      "0.0\n",
      "sci.med\n",
      "5.0\n",
      "0.0\n",
      "sci.space\n",
      "7.0\n",
      "0.0\n",
      "soc.religion.christian\n",
      "1.0\n",
      "0.0\n",
      "talk.politics.guns\n",
      "16.0\n",
      "0.0\n",
      "talk.politics.mideast\n",
      "15.0\n",
      "0.0\n",
      "talk.politics.misc\n",
      "18.0\n",
      "0.0\n",
      "talk.religion.misc\n",
      "19.0\n",
      "0.0\n"
     ]
    }
   ],
   "source": [
    "grouped = df.groupby('topic')\n",
    "for name, group in grouped:\n",
    "    print(name)\n",
    "    print(group.label.iloc[0])\n",
    "    recall = sum(group['label'] == group['prediction']) / float(len(group))\n",
    "    print(recall)"
   ]
  },
  {
   "cell_type": "code",
   "execution_count": null,
   "metadata": {
    "collapsed": true
   },
   "outputs": [],
   "source": []
  },
  {
   "cell_type": "markdown",
   "metadata": {},
   "source": [
    "### Now Naive Bayes"
   ]
  },
  {
   "cell_type": "code",
   "execution_count": 46,
   "metadata": {
    "collapsed": true
   },
   "outputs": [],
   "source": [
    "filename = 'plnb1.p'\n",
    "# pl = load_pkl(filename)\n",
    "df = pd.read_pickle(filename)"
   ]
  },
  {
   "cell_type": "code",
   "execution_count": 47,
   "metadata": {},
   "outputs": [
    {
     "data": {
      "text/plain": [
       "0.6962025316455697"
      ]
     },
     "execution_count": 47,
     "metadata": {},
     "output_type": "execute_result"
    }
   ],
   "source": [
    "acc = sum(df['label'] == df['prediction']) / float(len(df))\n",
    "acc"
   ]
  },
  {
   "cell_type": "code",
   "execution_count": 48,
   "metadata": {
    "scrolled": true
   },
   "outputs": [
    {
     "name": "stdout",
     "output_type": "stream",
     "text": [
      "0.0\n",
      "0.9130434782608695\n",
      "1.0\n",
      "0.8103448275862069\n",
      "2.0\n",
      "0.654320987654321\n",
      "3.0\n",
      "0.8461538461538461\n",
      "4.0\n",
      "0.8490566037735849\n",
      "5.0\n",
      "0.7692307692307693\n",
      "6.0\n",
      "0.6794871794871795\n",
      "7.0\n",
      "0.6451612903225806\n",
      "8.0\n",
      "0.7608695652173914\n",
      "9.0\n",
      "0.6666666666666666\n",
      "10.0\n",
      "0.6031746031746031\n",
      "11.0\n",
      "0.6153846153846154\n",
      "12.0\n",
      "0.6610169491525424\n",
      "13.0\n",
      "0.5\n",
      "14.0\n",
      "0.5384615384615384\n",
      "15.0\n",
      "0.8823529411764706\n",
      "16.0\n",
      "0.7258064516129032\n",
      "17.0\n",
      "0.671875\n",
      "18.0\n",
      "0.6428571428571429\n",
      "19.0\n",
      "0.5294117647058824\n"
     ]
    }
   ],
   "source": [
    "grouped = df.groupby('prediction')\n",
    "for name, group in grouped:\n",
    "    print(name)\n",
    "    precision = sum(group['label'] == group['prediction']) / float(len(group))\n",
    "    print(precision)"
   ]
  },
  {
   "cell_type": "code",
   "execution_count": 50,
   "metadata": {
    "scrolled": true
   },
   "outputs": [
    {
     "name": "stdout",
     "output_type": "stream",
     "text": [
      "alt.atheism\n",
      "17.0\n",
      "0.8113207547169812\n",
      "comp.graphics\n",
      "13.0\n",
      "0.7049180327868853\n",
      "comp.os.ms-windows.misc\n",
      "9.0\n",
      "0.03389830508474576\n",
      "comp.sys.ibm.pc.hardware\n",
      "11.0\n",
      "0.7692307692307693\n",
      "comp.sys.mac.hardware\n",
      "14.0\n",
      "0.660377358490566\n",
      "comp.windows.x\n",
      "8.0\n",
      "0.6481481481481481\n",
      "misc.forsale\n",
      "12.0\n",
      "0.6610169491525424\n",
      "rec.autos\n",
      "6.0\n",
      "0.7464788732394366\n",
      "rec.motorcycles\n",
      "2.0\n",
      "0.7681159420289855\n",
      "rec.sport.baseball\n",
      "3.0\n",
      "0.7971014492753623\n",
      "rec.sport.hockey\n",
      "0.0\n",
      "0.84\n",
      "sci.crypt\n",
      "4.0\n",
      "0.8035714285714286\n",
      "sci.electronics\n",
      "10.0\n",
      "0.6229508196721312\n",
      "sci.med\n",
      "5.0\n",
      "0.7352941176470589\n",
      "sci.space\n",
      "7.0\n",
      "0.7272727272727273\n",
      "soc.religion.christian\n",
      "1.0\n",
      "0.6619718309859155\n",
      "talk.politics.guns\n",
      "16.0\n",
      "0.7894736842105263\n",
      "talk.politics.mideast\n",
      "15.0\n",
      "0.8333333333333334\n",
      "talk.politics.misc\n",
      "18.0\n",
      "0.72\n",
      "talk.religion.misc\n",
      "19.0\n",
      "0.47368421052631576\n"
     ]
    }
   ],
   "source": [
    "grouped = df.groupby('topic')\n",
    "for name, group in grouped:\n",
    "    print(name)\n",
    "    print(group.label.iloc[0])\n",
    "    recall = sum(group['label'] == group['prediction']) / float(len(group))\n",
    "    print(recall)"
   ]
  },
  {
   "cell_type": "markdown",
   "metadata": {},
   "source": [
    "### Now random forest"
   ]
  },
  {
   "cell_type": "code",
   "execution_count": 51,
   "metadata": {
    "collapsed": true
   },
   "outputs": [],
   "source": [
    "filename = 'plrf1.p'\n",
    "# pl = load_pkl(filename)\n",
    "df = pd.read_pickle(filename)"
   ]
  },
  {
   "cell_type": "code",
   "execution_count": 52,
   "metadata": {},
   "outputs": [
    {
     "data": {
      "text/plain": [
       "0.5856540084388185"
      ]
     },
     "execution_count": 52,
     "metadata": {},
     "output_type": "execute_result"
    }
   ],
   "source": [
    "acc = sum(df['label'] == df['prediction']) / float(len(df))\n",
    "acc"
   ]
  },
  {
   "cell_type": "code",
   "execution_count": 53,
   "metadata": {},
   "outputs": [
    {
     "name": "stdout",
     "output_type": "stream",
     "text": [
      "0.0\n",
      "0.8311688311688312\n",
      "1.0\n",
      "0.6571428571428571\n",
      "2.0\n",
      "0.5769230769230769\n",
      "3.0\n",
      "0.7741935483870968\n",
      "4.0\n",
      "0.7068965517241379\n",
      "5.0\n",
      "0.5121951219512195\n",
      "6.0\n",
      "0.4523809523809524\n",
      "7.0\n",
      "0.48717948717948717\n",
      "8.0\n",
      "0.5573770491803278\n",
      "9.0\n",
      "0.4375\n",
      "10.0\n",
      "0.46774193548387094\n",
      "11.0\n",
      "0.47368421052631576\n",
      "12.0\n",
      "0.6176470588235294\n",
      "13.0\n",
      "0.54\n",
      "14.0\n",
      "0.5333333333333333\n",
      "15.0\n",
      "0.6440677966101694\n",
      "16.0\n",
      "0.5645161290322581\n",
      "17.0\n",
      "0.78\n",
      "18.0\n",
      "0.631578947368421\n",
      "19.0\n",
      "0.42857142857142855\n"
     ]
    }
   ],
   "source": [
    "grouped = df.groupby('prediction')\n",
    "for name, group in grouped:\n",
    "    print(name)\n",
    "    precision = sum(group['label'] == group['prediction']) / float(len(group))\n",
    "    print(precision)"
   ]
  },
  {
   "cell_type": "code",
   "execution_count": 54,
   "metadata": {},
   "outputs": [
    {
     "name": "stdout",
     "output_type": "stream",
     "text": [
      "alt.atheism\n",
      "17.0\n",
      "0.7358490566037735\n",
      "comp.graphics\n",
      "13.0\n",
      "0.4426229508196721\n",
      "comp.os.ms-windows.misc\n",
      "9.0\n",
      "0.4745762711864407\n",
      "comp.sys.ibm.pc.hardware\n",
      "11.0\n",
      "0.5192307692307693\n",
      "comp.sys.mac.hardware\n",
      "14.0\n",
      "0.4528301886792453\n",
      "comp.windows.x\n",
      "8.0\n",
      "0.6296296296296297\n",
      "misc.forsale\n",
      "12.0\n",
      "0.3559322033898305\n",
      "rec.autos\n",
      "6.0\n",
      "0.5352112676056338\n",
      "rec.motorcycles\n",
      "2.0\n",
      "0.6521739130434783\n",
      "rec.sport.baseball\n",
      "3.0\n",
      "0.6956521739130435\n",
      "rec.sport.hockey\n",
      "0.0\n",
      "0.8533333333333334\n",
      "sci.crypt\n",
      "4.0\n",
      "0.7321428571428571\n",
      "sci.electronics\n",
      "10.0\n",
      "0.47540983606557374\n",
      "sci.med\n",
      "5.0\n",
      "0.6176470588235294\n",
      "sci.space\n",
      "7.0\n",
      "0.6909090909090909\n",
      "soc.religion.christian\n",
      "1.0\n",
      "0.647887323943662\n",
      "talk.politics.guns\n",
      "16.0\n",
      "0.6140350877192983\n",
      "talk.politics.mideast\n",
      "15.0\n",
      "0.7037037037037037\n",
      "talk.politics.misc\n",
      "18.0\n",
      "0.48\n",
      "talk.religion.misc\n",
      "19.0\n",
      "0.15789473684210525\n"
     ]
    }
   ],
   "source": [
    "grouped = df.groupby('topic')\n",
    "for name, group in grouped:\n",
    "    print(name)\n",
    "    print(group.label.iloc[0])\n",
    "    recall = sum(group['label'] == group['prediction']) / float(len(group))\n",
    "    print(recall)"
   ]
  },
  {
   "cell_type": "code",
   "execution_count": 75,
   "metadata": {},
   "outputs": [],
   "source": [
    "filename = 'pl2rft.p'\n",
    "# pl = load_pkl(filename)\n",
    "df = pd.read_pickle(filename)"
   ]
  },
  {
   "cell_type": "code",
   "execution_count": 76,
   "metadata": {},
   "outputs": [
    {
     "data": {
      "text/plain": [
       "0.5856540084388185"
      ]
     },
     "execution_count": 76,
     "metadata": {},
     "output_type": "execute_result"
    }
   ],
   "source": [
    "acc = sum(df['label'] == df['prediction']) / float(len(df))\n",
    "acc"
   ]
  },
  {
   "cell_type": "code",
   "execution_count": 77,
   "metadata": {},
   "outputs": [
    {
     "name": "stdout",
     "output_type": "stream",
     "text": [
      "0.0\n",
      "0.8311688311688312\n",
      "1.0\n",
      "0.6571428571428571\n",
      "2.0\n",
      "0.5769230769230769\n",
      "3.0\n",
      "0.7741935483870968\n",
      "4.0\n",
      "0.7068965517241379\n",
      "5.0\n",
      "0.5121951219512195\n",
      "6.0\n",
      "0.4523809523809524\n",
      "7.0\n",
      "0.48717948717948717\n",
      "8.0\n",
      "0.5573770491803278\n",
      "9.0\n",
      "0.4375\n",
      "10.0\n",
      "0.46774193548387094\n",
      "11.0\n",
      "0.47368421052631576\n",
      "12.0\n",
      "0.6176470588235294\n",
      "13.0\n",
      "0.54\n",
      "14.0\n",
      "0.5333333333333333\n",
      "15.0\n",
      "0.6440677966101694\n",
      "16.0\n",
      "0.5645161290322581\n",
      "17.0\n",
      "0.78\n",
      "18.0\n",
      "0.631578947368421\n",
      "19.0\n",
      "0.42857142857142855\n"
     ]
    }
   ],
   "source": [
    "grouped = df.groupby('prediction')\n",
    "for name, group in grouped:\n",
    "    print(name)\n",
    "    precision = sum(group['label'] == group['prediction']) / float(len(group))\n",
    "    print(precision)"
   ]
  },
  {
   "cell_type": "code",
   "execution_count": 78,
   "metadata": {},
   "outputs": [
    {
     "name": "stdout",
     "output_type": "stream",
     "text": [
      "alt.atheism\n",
      "17.0\n",
      "0.7358490566037735\n",
      "comp.graphics\n",
      "13.0\n",
      "0.4426229508196721\n",
      "comp.os.ms-windows.misc\n",
      "9.0\n",
      "0.4745762711864407\n",
      "comp.sys.ibm.pc.hardware\n",
      "11.0\n",
      "0.5192307692307693\n",
      "comp.sys.mac.hardware\n",
      "14.0\n",
      "0.4528301886792453\n",
      "comp.windows.x\n",
      "8.0\n",
      "0.6296296296296297\n",
      "misc.forsale\n",
      "12.0\n",
      "0.3559322033898305\n",
      "rec.autos\n",
      "6.0\n",
      "0.5352112676056338\n",
      "rec.motorcycles\n",
      "2.0\n",
      "0.6521739130434783\n",
      "rec.sport.baseball\n",
      "3.0\n",
      "0.6956521739130435\n",
      "rec.sport.hockey\n",
      "0.0\n",
      "0.8533333333333334\n",
      "sci.crypt\n",
      "4.0\n",
      "0.7321428571428571\n",
      "sci.electronics\n",
      "10.0\n",
      "0.47540983606557374\n",
      "sci.med\n",
      "5.0\n",
      "0.6176470588235294\n",
      "sci.space\n",
      "7.0\n",
      "0.6909090909090909\n",
      "soc.religion.christian\n",
      "1.0\n",
      "0.647887323943662\n",
      "talk.politics.guns\n",
      "16.0\n",
      "0.6140350877192983\n",
      "talk.politics.mideast\n",
      "15.0\n",
      "0.7037037037037037\n",
      "talk.politics.misc\n",
      "18.0\n",
      "0.48\n",
      "talk.religion.misc\n",
      "19.0\n",
      "0.15789473684210525\n"
     ]
    }
   ],
   "source": [
    "grouped = df.groupby('topic')\n",
    "for name, group in grouped:\n",
    "    print(name)\n",
    "    print(group.label.iloc[0])\n",
    "    recall = sum(group['label'] == group['prediction']) / float(len(group))\n",
    "    print(recall)"
   ]
  }
 ],
 "metadata": {
  "kernelspec": {
   "display_name": "Python 3",
   "language": "python",
   "name": "python3"
  },
  "language_info": {
   "codemirror_mode": {
    "name": "ipython",
    "version": 3
   },
   "file_extension": ".py",
   "mimetype": "text/x-python",
   "name": "python",
   "nbconvert_exporter": "python",
   "pygments_lexer": "ipython3",
   "version": "3.6.1"
  }
 },
 "nbformat": 4,
 "nbformat_minor": 2
}
